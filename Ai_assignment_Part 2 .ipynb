{
 "cells": [
  {
   "cell_type": "code",
   "execution_count": 24,
   "id": "8f9ad1da",
   "metadata": {},
   "outputs": [],
   "source": [
    "import keras\n",
    "from tkinter import *\n",
    "import PIL\n",
    "from PIL import Image, ImageDraw"
   ]
  },
  {
   "cell_type": "code",
   "execution_count": 2,
   "id": "8c7719c0",
   "metadata": {},
   "outputs": [],
   "source": [
    "model = keras.models.load_model(\"katakana-model.h5\")"
   ]
  },
  {
   "cell_type": "code",
   "execution_count": 63,
   "id": "2474b840",
   "metadata": {},
   "outputs": [],
   "source": [
    "def save():\n",
    "    global image_number\n",
    "    filename = f'image_{image_number}.png'   #image_number increments by 1 at every save\n",
    "    image1.save(filename)\n",
    "    image_number += 1\n",
    "\n",
    "\n",
    "\n",
    "def activate_paint(e):\n",
    "    global lastx, lasty\n",
    "    cv.bind('<B1-Motion>', paint)\n",
    "    lastx, lasty = e.x, e.y\n",
    "def paint(e):\n",
    "    global lastx, lasty\n",
    "    x, y = e.x, e.y\n",
    "    cv.create_line((lastx, lasty, x, y), fill = \"white\", width=10)\n",
    "    #  --- PIL\n",
    "    draw.line((lastx, lasty, x, y), fill='white', width=10)\n",
    "    lastx, lasty = x, y\n",
    "\n",
    "\n",
    "root = Tk()\n",
    "\n",
    "lastx, lasty = None, None\n",
    "image_number = 0\n",
    "\n",
    "cv = Canvas(root, width=480, height=480, bg='black')\n",
    "# --- PIL\n",
    "image1 = PIL.Image.new('RGB', (480, 480), 'black')\n",
    "draw = ImageDraw.Draw(image1)\n",
    "\n",
    "cv.bind('<1>', activate_paint)\n",
    "cv.pack(expand=YES, fill=BOTH)\n",
    "\n",
    "btn_save = Button(text=\"save\", command=save)\n",
    "btn_save.pack()\n",
    "\n",
    "root.mainloop()\n"
   ]
  },
  {
   "cell_type": "code",
   "execution_count": 4,
   "id": "6c3bc8bc",
   "metadata": {},
   "outputs": [],
   "source": [
    "try:\n",
    "    from PIL import Image\n",
    "except ImportError:\n",
    "    import Image"
   ]
  },
  {
   "cell_type": "code",
   "execution_count": 5,
   "id": "1590f2fa",
   "metadata": {},
   "outputs": [],
   "source": [
    "try:\n",
    "    from PIL import ImageOps\n",
    "except ImportError:\n",
    "    import ImageOps"
   ]
  },
  {
   "cell_type": "code",
   "execution_count": 65,
   "id": "97802f1a",
   "metadata": {
    "scrolled": true
   },
   "outputs": [
    {
     "data": {
      "image/png": "[encoded data removed]",
      "text/plain": [
       "<PIL.PngImagePlugin.PngImageFile image mode=RGB size=480x480 at 0x1892D014AF0>"
      ]
     },
     "execution_count": 65,
     "metadata": {},
     "output_type": "execute_result"
    }
   ],
   "source": [
    "im = Image.open(r'image_0.png')\n",
    "im\n"
   ]
  },
  {
   "cell_type": "code",
   "execution_count": 61,
   "id": "ee80cfaf",
   "metadata": {},
   "outputs": [],
   "source": [
    "dict_module_1 = {28 : 'he', 26 : 'to', 29 : 'ma', 34 : 'mo'}"
   ]
  },
  {
   "cell_type": "code",
   "execution_count": 64,
   "id": "31fca1f7",
   "metadata": {},
   "outputs": [
    {
     "name": "stdout",
     "output_type": "stream",
     "text": [
      "given character is : ma\n",
      "character you drew is correct\n"
     ]
    }
   ],
   "source": [
    "import numpy as np\n",
    "im = Image.open(r'image_0.png')\n",
    "im = ImageOps.grayscale(im)\n",
    "size = (48,48)\n",
    "im.thumbnail(size,Image.ANTIALIAS)\n",
    "final = np.array(im)\n",
    "x = np.expand_dims(final,0) # adding a dimension to the input to fit into the \n",
    "\n",
    "y = model.predict(x)\n",
    "print('given character is :',dict_module_1[y.argmax()])\n",
    "try :\n",
    "    print('character you drew is correct')\n",
    "except KeyError :\n",
    "    print('Try again')\n"
   ]
  },
  {
   "cell_type": "code",
   "execution_count": null,
   "id": "dbf48fb1",
   "metadata": {},
   "outputs": [],
   "source": []
  }
 ],
 "metadata": {
  "kernelspec": {
   "display_name": "Python 3",
   "language": "python",
   "name": "python3"
  },
  "language_info": {
   "codemirror_mode": {
    "name": "ipython",
    "version": 3
   },
   "file_extension": ".py",
   "mimetype": "text/x-python",
   "name": "python",
   "nbconvert_exporter": "python",
   "pygments_lexer": "ipython3",
   "version": "3.8.8"
  }
 },
 "nbformat": 4,
 "nbformat_minor": 5
}
